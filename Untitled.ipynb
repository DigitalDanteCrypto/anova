{
 "cells": [
  {
   "cell_type": "code",
   "execution_count": 1,
   "id": "be3cb637-d424-4e3a-9610-45a49a100d8f",
   "metadata": {},
   "outputs": [],
   "source": [
    "import pandas as pd\n",
    "import numpy as np\n",
    "import matplotlib.pyplot as plt\n",
    "from scipy import stats"
   ]
  },
  {
   "cell_type": "code",
   "execution_count": 2,
   "id": "9a4be20f-e8c7-4db8-a6ab-5c4d1d490fe6",
   "metadata": {},
   "outputs": [],
   "source": [
    "likert = pd.read_csv(\"sondage-likert.csv\")\n"
   ]
  },
  {
   "cell_type": "code",
   "execution_count": 3,
   "id": "f5a5bdfb-1ef3-4f6c-bbd7-b47e77430e0c",
   "metadata": {},
   "outputs": [],
   "source": [
    "likert['T1'].replace([\"très d'accord\", \"d'accord\", \"neutre\", \"désaccord\" , \"totalement en désaccord\"], [5, 4 , 3 , 2 , 1], inplace = True)\n",
    "likert['T2'].replace([\"très d'accord\", \"d'accord\", \"neutre\", \"désaccord\" , \"totalement en désaccord\"], [5, 4 , 3 , 2 , 1], inplace = True)\n",
    "likert['T3'].replace([\"très d'accord\", \"d'accord\", \"neutre\", \"désaccord\" , \"totalement en désaccord\"], [5, 4 , 3 , 2 , 1], inplace = True)\n",
    "likert['T4'].replace([\"très d'accord\", \"d'accord\", \"neutre\", \"désaccord\" , \"totalement en désaccord\"], [5, 4 , 3 , 2 , 1], inplace = True)\n",
    "likert['T5'].replace([\"Très fort\", \"Fort\", \"Moyen\", \"Faible\" , \"Très faible\"], [5, 4 , 3 , 2 , 1], inplace = True)\n",
    "likert['T6'].replace([\"Haute Résilience, je coupe chaque appareil électrique après utilisation et chauffage.\", \"Résilience légère, tant qu'on me coupe pas l'électricité.\", \"Résilience moyenne, je suis prêt à m'investir un minimum et réduire ma consommation.\", \"Peu de résilience , je suis prêt à m'investir que si l'on m'y force.\" , \"Aucune résilience, je refuse de m'adapter.\"], [5, 4 , 3 , 2 , 1], inplace = True)\n",
    "likert['T7'].replace([\"Très optimiste\", \"Optimiste\", \"Neutre\", \"Pessimiste\" , \"Très pessimiste\"], [5, 4 , 3 , 2 , 1], inplace = True)\n",
    "likert['T8'].replace([\"Très flexible\", \"Flexible\", \"Ni flexible ni inflexible\", \"Inflexible\" , \"Très inflexible\"], [5, 4 , 3 , 2 , 1], inplace = True)\n",
    "likert['T9'].replace([\"Je suis en mesure de surmonter les difficultés de manière positive.\", \"Je gère le stress de manière efficace et je m'adapte rapidement aux changements\", \"Je m'inquiète un peu, mais je finis par m'en remettre.\", \"Je m'inquiète beaucoup et j'ai du mal à m'en remettre.\" , \"Je m'effondre et je me sens incapable de faire face.\"], [5, 4 , 3 , 2 , 1], inplace = True)\n",
    "likert['T10'].replace([\"Tout à fait d'accord\", \"Plutôt d'accord\", \"Ni d'accord ni de désaccord\", \"Peu d'accord\" , \"Pas du tout d'accord\"], [5, 4 , 3 , 2 , 1], inplace = True)\n",
    "likert['T11'].replace([\"Tout à fait d'accord\", \"Plutôt d'accord\", \"Ni d'accord ni de désaccord\", \"Peu d'accord\" , \"Pas du tout d'accord\"],[5, 4 , 3 , 2 , 1], inplace = True)\n"
   ]
  },
  {
   "cell_type": "code",
   "execution_count": 4,
   "id": "5a47f43a-44c0-4b32-b6af-48917e80a541",
   "metadata": {},
   "outputs": [],
   "source": [
    "likert.drop([\"Unnamed: 0\"], axis=1, inplace=True)"
   ]
  },
  {
   "cell_type": "code",
   "execution_count": 5,
   "id": "f686be56-2ecb-4b04-b673-a12c42a89e1b",
   "metadata": {},
   "outputs": [
    {
     "data": {
      "text/html": [
       "<div>\n",
       "<style scoped>\n",
       "    .dataframe tbody tr th:only-of-type {\n",
       "        vertical-align: middle;\n",
       "    }\n",
       "\n",
       "    .dataframe tbody tr th {\n",
       "        vertical-align: top;\n",
       "    }\n",
       "\n",
       "    .dataframe thead th {\n",
       "        text-align: right;\n",
       "    }\n",
       "</style>\n",
       "<table border=\"1\" class=\"dataframe\">\n",
       "  <thead>\n",
       "    <tr style=\"text-align: right;\">\n",
       "      <th></th>\n",
       "      <th>T1</th>\n",
       "      <th>T2</th>\n",
       "      <th>T3</th>\n",
       "      <th>T4</th>\n",
       "      <th>T5</th>\n",
       "      <th>T6</th>\n",
       "      <th>T7</th>\n",
       "      <th>T8</th>\n",
       "      <th>T9</th>\n",
       "      <th>T10</th>\n",
       "      <th>T11</th>\n",
       "    </tr>\n",
       "  </thead>\n",
       "  <tbody>\n",
       "    <tr>\n",
       "      <th>count</th>\n",
       "      <td>32.000000</td>\n",
       "      <td>32.000000</td>\n",
       "      <td>32.000000</td>\n",
       "      <td>32.000000</td>\n",
       "      <td>32.000000</td>\n",
       "      <td>32.000000</td>\n",
       "      <td>32.000000</td>\n",
       "      <td>32.000000</td>\n",
       "      <td>32.000000</td>\n",
       "      <td>32.000000</td>\n",
       "      <td>32.000000</td>\n",
       "    </tr>\n",
       "    <tr>\n",
       "      <th>mean</th>\n",
       "      <td>4.343750</td>\n",
       "      <td>4.281250</td>\n",
       "      <td>2.625000</td>\n",
       "      <td>4.312500</td>\n",
       "      <td>3.437500</td>\n",
       "      <td>3.875000</td>\n",
       "      <td>3.062500</td>\n",
       "      <td>3.750000</td>\n",
       "      <td>3.593750</td>\n",
       "      <td>3.500000</td>\n",
       "      <td>3.125000</td>\n",
       "    </tr>\n",
       "    <tr>\n",
       "      <th>std</th>\n",
       "      <td>0.827331</td>\n",
       "      <td>0.634206</td>\n",
       "      <td>1.184578</td>\n",
       "      <td>0.737804</td>\n",
       "      <td>0.981687</td>\n",
       "      <td>0.609071</td>\n",
       "      <td>0.877588</td>\n",
       "      <td>0.567962</td>\n",
       "      <td>0.837021</td>\n",
       "      <td>0.762001</td>\n",
       "      <td>0.941858</td>\n",
       "    </tr>\n",
       "    <tr>\n",
       "      <th>min</th>\n",
       "      <td>2.000000</td>\n",
       "      <td>3.000000</td>\n",
       "      <td>1.000000</td>\n",
       "      <td>2.000000</td>\n",
       "      <td>1.000000</td>\n",
       "      <td>3.000000</td>\n",
       "      <td>1.000000</td>\n",
       "      <td>3.000000</td>\n",
       "      <td>2.000000</td>\n",
       "      <td>2.000000</td>\n",
       "      <td>1.000000</td>\n",
       "    </tr>\n",
       "    <tr>\n",
       "      <th>25%</th>\n",
       "      <td>4.000000</td>\n",
       "      <td>4.000000</td>\n",
       "      <td>2.000000</td>\n",
       "      <td>4.000000</td>\n",
       "      <td>3.000000</td>\n",
       "      <td>3.750000</td>\n",
       "      <td>2.750000</td>\n",
       "      <td>3.000000</td>\n",
       "      <td>3.000000</td>\n",
       "      <td>3.000000</td>\n",
       "      <td>2.000000</td>\n",
       "    </tr>\n",
       "    <tr>\n",
       "      <th>50%</th>\n",
       "      <td>4.500000</td>\n",
       "      <td>4.000000</td>\n",
       "      <td>2.500000</td>\n",
       "      <td>4.000000</td>\n",
       "      <td>3.000000</td>\n",
       "      <td>4.000000</td>\n",
       "      <td>3.000000</td>\n",
       "      <td>4.000000</td>\n",
       "      <td>3.000000</td>\n",
       "      <td>4.000000</td>\n",
       "      <td>3.000000</td>\n",
       "    </tr>\n",
       "    <tr>\n",
       "      <th>75%</th>\n",
       "      <td>5.000000</td>\n",
       "      <td>5.000000</td>\n",
       "      <td>3.250000</td>\n",
       "      <td>5.000000</td>\n",
       "      <td>4.000000</td>\n",
       "      <td>4.000000</td>\n",
       "      <td>4.000000</td>\n",
       "      <td>4.000000</td>\n",
       "      <td>4.000000</td>\n",
       "      <td>4.000000</td>\n",
       "      <td>4.000000</td>\n",
       "    </tr>\n",
       "    <tr>\n",
       "      <th>max</th>\n",
       "      <td>5.000000</td>\n",
       "      <td>5.000000</td>\n",
       "      <td>5.000000</td>\n",
       "      <td>5.000000</td>\n",
       "      <td>5.000000</td>\n",
       "      <td>5.000000</td>\n",
       "      <td>5.000000</td>\n",
       "      <td>5.000000</td>\n",
       "      <td>5.000000</td>\n",
       "      <td>5.000000</td>\n",
       "      <td>5.000000</td>\n",
       "    </tr>\n",
       "  </tbody>\n",
       "</table>\n",
       "</div>"
      ],
      "text/plain": [
       "              T1         T2         T3         T4         T5         T6  \\\n",
       "count  32.000000  32.000000  32.000000  32.000000  32.000000  32.000000   \n",
       "mean    4.343750   4.281250   2.625000   4.312500   3.437500   3.875000   \n",
       "std     0.827331   0.634206   1.184578   0.737804   0.981687   0.609071   \n",
       "min     2.000000   3.000000   1.000000   2.000000   1.000000   3.000000   \n",
       "25%     4.000000   4.000000   2.000000   4.000000   3.000000   3.750000   \n",
       "50%     4.500000   4.000000   2.500000   4.000000   3.000000   4.000000   \n",
       "75%     5.000000   5.000000   3.250000   5.000000   4.000000   4.000000   \n",
       "max     5.000000   5.000000   5.000000   5.000000   5.000000   5.000000   \n",
       "\n",
       "              T7         T8         T9        T10        T11  \n",
       "count  32.000000  32.000000  32.000000  32.000000  32.000000  \n",
       "mean    3.062500   3.750000   3.593750   3.500000   3.125000  \n",
       "std     0.877588   0.567962   0.837021   0.762001   0.941858  \n",
       "min     1.000000   3.000000   2.000000   2.000000   1.000000  \n",
       "25%     2.750000   3.000000   3.000000   3.000000   2.000000  \n",
       "50%     3.000000   4.000000   3.000000   4.000000   3.000000  \n",
       "75%     4.000000   4.000000   4.000000   4.000000   4.000000  \n",
       "max     5.000000   5.000000   5.000000   5.000000   5.000000  "
      ]
     },
     "execution_count": 5,
     "metadata": {},
     "output_type": "execute_result"
    }
   ],
   "source": [
    "likert.describe()"
   ]
  },
  {
   "cell_type": "code",
   "execution_count": 6,
   "id": "a9f50f53-e736-4fcf-99df-337971007fa7",
   "metadata": {},
   "outputs": [
    {
     "data": {
      "text/plain": [
       "T1       AxesSubplot(0.125,0.11;0.227941x0.77)\n",
       "T2    AxesSubplot(0.398529,0.11;0.227941x0.77)\n",
       "T3    AxesSubplot(0.672059,0.11;0.227941x0.77)\n",
       "dtype: object"
      ]
     },
     "execution_count": 6,
     "metadata": {},
     "output_type": "execute_result"
    },
    {
     "data": {
      "image/png": "[encoded data removed]",
      "text/plain": [
       "<Figure size 1500x500 with 3 Axes>"
      ]
     },
     "metadata": {},
     "output_type": "display_data"
    }
   ],
   "source": [
    "likert.plot.box(column=[\"T1\", \"T2\", \"T3\"], by=\"Section\", figsize=(15, 5))"
   ]
  },
  {
   "cell_type": "code",
   "execution_count": 7,
   "id": "4c0dca8e-a326-4712-8738-b10eebbfd270",
   "metadata": {},
   "outputs": [
    {
     "data": {
      "text/plain": [
       "4.34375"
      ]
     },
     "execution_count": 7,
     "metadata": {},
     "output_type": "execute_result"
    }
   ],
   "source": [
    "likert[\"T1\"].mean()\n"
   ]
  },
  {
   "cell_type": "code",
   "execution_count": 8,
   "id": "5eeaadd8-2210-4c8f-8a90-ef00cfd66d38",
   "metadata": {},
   "outputs": [
    {
     "data": {
      "text/plain": [
       "4.28125"
      ]
     },
     "execution_count": 8,
     "metadata": {},
     "output_type": "execute_result"
    }
   ],
   "source": [
    "likert[\"T2\"].mean()"
   ]
  },
  {
   "cell_type": "code",
   "execution_count": 9,
   "id": "643df143-97e1-46c7-9655-b3c54337fecf",
   "metadata": {},
   "outputs": [
    {
     "data": {
      "text/plain": [
       "2.625"
      ]
     },
     "execution_count": 9,
     "metadata": {},
     "output_type": "execute_result"
    }
   ],
   "source": [
    "likert[\"T3\"].mean()"
   ]
  },
  {
   "cell_type": "code",
   "execution_count": 10,
   "id": "b1c94f04-d0a2-4217-9bd5-273ef810e468",
   "metadata": {},
   "outputs": [
    {
     "name": "stderr",
     "output_type": "stream",
     "text": [
      "C:\\Users\\Florian\\AppData\\Local\\Temp\\ipykernel_18060\\3790124687.py:1: FutureWarning: The default value of numeric_only in DataFrame.std is deprecated. In a future version, it will default to False. In addition, specifying 'numeric_only=None' is deprecated. Select only valid columns or specify the value of numeric_only to silence this warning.\n",
      "  likert.std()\n"
     ]
    },
    {
     "data": {
      "text/plain": [
       "T1     0.827331\n",
       "T2     0.634206\n",
       "T3     1.184578\n",
       "T4     0.737804\n",
       "T5     0.981687\n",
       "T6     0.609071\n",
       "T7     0.877588\n",
       "T8     0.567962\n",
       "T9     0.837021\n",
       "T10    0.762001\n",
       "T11    0.941858\n",
       "dtype: float64"
      ]
     },
     "execution_count": 10,
     "metadata": {},
     "output_type": "execute_result"
    }
   ],
   "source": [
    "likert.std()"
   ]
  },
  {
   "cell_type": "code",
   "execution_count": 13,
   "id": "54be0325-9291-403e-a6c1-09575eb797c1",
   "metadata": {},
   "outputs": [
    {
     "data": {
      "text/plain": [
       "F_onewayResult(statistic=14.375743162901303, pvalue=2.7378461969411497e-21)"
      ]
     },
     "execution_count": 13,
     "metadata": {},
     "output_type": "execute_result"
    }
   ],
   "source": [
    "stats.f_oneway(likert[\"T1\"],likert[\"T2\"],likert[\"T3\"],likert[\"T4\"],likert[\"T5\"],likert[\"T6\"],likert[\"T7\"],likert[\"T8\"],likert[\"T9\"],likert[\"T10\"],likert[\"T11\"])"
   ]
  },
  {
   "cell_type": "code",
   "execution_count": 24,
   "id": "18571f3a-1157-4032-84ca-45ae8576f67d",
   "metadata": {},
   "outputs": [
    {
     "name": "stdout",
     "output_type": "stream",
     "text": [
      "F_onewayResult(statistic=3.872727272727274, pvalue=0.0005194658299009136)\n",
      "F_onewayResult(statistic=4.596363636363631, pvalue=0.0001775525896747378)\n"
     ]
    }
   ],
   "source": [
    "likert\n",
    "sectionGameProg = likert.loc[likert[\"Section\"] == \"Game Prog\"]\n",
    "sectionFilm = likert.loc[likert[\"Section\"] == \"Film\"]\n",
    "\n",
    "stats.f_oneway(sectionGameProg[\"T1\"],likert[\"T2\"],likert[\"T3\"],likert[\"T4\"],likert[\"T5\"],likert[\"T6\"],likert[\"T7\"],likert[\"T8\"],likert[\"T9\"],likert[\"T10\"],likert[\"T11\"])\n",
    "\n",
    "def useANOVA(df):\n",
    "    result = stats.f_oneway(df[\"T1\"],df[\"T2\"],df[\"T3\"],df[\"T4\"],df[\"T5\"],df[\"T6\"],df[\"T7\"],df[\"T8\"],df[\"T9\"],df[\"T10\"],df[\"T11\"])\n",
    "    print(result)\n",
    "useANOVA(sectionGameProg)\n",
    "useANOVA(sectionFilm)\n",
    "\n",
    "#Je veux utiliser ANOVA sur que les game prog"
   ]
  },
  {
   "cell_type": "code",
   "execution_count": null,
   "id": "3a05675d-cdb3-4cbb-a6e7-cfa6082b739e",
   "metadata": {},
   "outputs": [],
   "source": []
  }
 ],
 "metadata": {
  "kernelspec": {
   "display_name": "Python 3 (ipykernel)",
   "language": "python",
   "name": "python3"
  },
  "language_info": {
   "codemirror_mode": {
    "name": "ipython",
    "version": 3
   },
   "file_extension": ".py",
   "mimetype": "text/x-python",
   "name": "python",
   "nbconvert_exporter": "python",
   "pygments_lexer": "ipython3",
   "version": "3.8.10"
  }
 },
 "nbformat": 4,
 "nbformat_minor": 5
}
